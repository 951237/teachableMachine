{
  "nbformat": 4,
  "nbformat_minor": 0,
  "metadata": {
    "colab": {
      "name": "TIL_2020_02.ipynb",
      "provenance": [],
      "authorship_tag": "ABX9TyPKbSG2m8pCBXTesjzWjsCH",
      "include_colab_link": true
    },
    "kernelspec": {
      "name": "python3",
      "display_name": "Python 3"
    }
  },
  "cells": [
    {
      "cell_type": "markdown",
      "metadata": {
        "id": "view-in-github",
        "colab_type": "text"
      },
      "source": [
        "<a href=\"https://colab.research.google.com/github/951237/teachableMachine/blob/master/TIL_2020_02.ipynb\" target=\"_parent\"><img src=\"https://colab.research.google.com/assets/colab-badge.svg\" alt=\"Open In Colab\"/></a>"
      ]
    },
    {
      "cell_type": "markdown",
      "metadata": {
        "id": "9Ex-ltZEYF0W",
        "colab_type": "text"
      },
      "source": [
        "# 인공지능"
      ]
    },
    {
      "cell_type": "markdown",
      "metadata": {
        "id": "yvDpBBejYOz3",
        "colab_type": "text"
      },
      "source": [
        "## TIL - 200209 텐서플로 따라하기\n",
        "- x축은 시간 \n",
        "- y축은 \n",
        "- 소스 : 안경잡이 개발자"
      ]
    },
    {
      "cell_type": "code",
      "metadata": {
        "id": "dwwlRuhbYX5f",
        "colab_type": "code",
        "colab": {}
      },
      "source": [
        "import tensorflow as tf"
      ],
      "execution_count": 0,
      "outputs": []
    },
    {
      "cell_type": "code",
      "metadata": {
        "id": "-Vcl8IrCZNTu",
        "colab_type": "code",
        "colab": {}
      },
      "source": [
        "xData = [1, 2, 3, 4, 5, 6, 7, 8]\n",
        "yData = [25000, 55000, 75000, 110000, 128000, 155000, 180000, 200000]"
      ],
      "execution_count": 0,
      "outputs": []
    },
    {
      "cell_type": "code",
      "metadata": {
        "id": "iml-Ulz0aMSL",
        "colab_type": "code",
        "colab": {}
      },
      "source": [
        "w = tf.Variable(tf.random_uniform([1], -100, 100)) #기울기"
      ],
      "execution_count": 0,
      "outputs": []
    },
    {
      "cell_type": "code",
      "metadata": {
        "id": "y0isthpgaiYo",
        "colab_type": "code",
        "colab": {}
      },
      "source": [
        "b = tf.Variable(tf.random_uniform([1], -100, 100)) # 값"
      ],
      "execution_count": 0,
      "outputs": []
    },
    {
      "cell_type": "code",
      "metadata": {
        "id": "Mkjr72fmasgb",
        "colab_type": "code",
        "colab": {}
      },
      "source": [
        "X = tf.placeholder(tf.float32)\n",
        "Y = tf.placeholder(tf.float32)"
      ],
      "execution_count": 0,
      "outputs": []
    },
    {
      "cell_type": "code",
      "metadata": {
        "id": "XTcH4zHma5kX",
        "colab_type": "code",
        "colab": {}
      },
      "source": [
        "H = w + X + b # 이해가 안됨. 무슨 뜻?"
      ],
      "execution_count": 0,
      "outputs": []
    },
    {
      "cell_type": "code",
      "metadata": {
        "id": "cZzxMTrlbBPh",
        "colab_type": "code",
        "colab": {}
      },
      "source": [
        "cost = tf.reduce_mean(tf.square(H-Y)) # 절대값을 구하여 평균값을 구함"
      ],
      "execution_count": 0,
      "outputs": []
    },
    {
      "cell_type": "code",
      "metadata": {
        "id": "57-ZoGrLbNxO",
        "colab_type": "code",
        "colab": {}
      },
      "source": [
        "a = tf.Variable(0.01)   # 점프값을 0.01로 정함."
      ],
      "execution_count": 0,
      "outputs": []
    },
    {
      "cell_type": "code",
      "metadata": {
        "id": "d19IJOTzbavX",
        "colab_type": "code",
        "colab": {}
      },
      "source": [
        "optimizer = tf.train.GradientDescentOptimizer(a)    # 경사하강법을 라이브러리 이용하여 훈련하기"
      ],
      "execution_count": 0,
      "outputs": []
    },
    {
      "cell_type": "code",
      "metadata": {
        "id": "62cOm03MbkSE",
        "colab_type": "code",
        "colab": {}
      },
      "source": [
        "train = optimizer.minimize(cost)    # 무슨뜻?"
      ],
      "execution_count": 0,
      "outputs": []
    },
    {
      "cell_type": "code",
      "metadata": {
        "id": "kL9lTGe2brUT",
        "colab_type": "code",
        "colab": {}
      },
      "source": [
        "init = tf.global_variables_initializer()    # 초기화?"
      ],
      "execution_count": 0,
      "outputs": []
    },
    {
      "cell_type": "code",
      "metadata": {
        "id": "nRBh8l_NbxmH",
        "colab_type": "code",
        "colab": {}
      },
      "source": [
        "sess = tf.Session()     # 세선을 선언"
      ],
      "execution_count": 0,
      "outputs": []
    },
    {
      "cell_type": "code",
      "metadata": {
        "id": "s21UN-N3b3Rr",
        "colab_type": "code",
        "colab": {}
      },
      "source": [
        "sess.run(init)"
      ],
      "execution_count": 0,
      "outputs": []
    },
    {
      "cell_type": "code",
      "metadata": {
        "id": "h7el5Ivyb7ZQ",
        "colab_type": "code",
        "colab": {
          "base_uri": "https://localhost:8080/",
          "height": 221
        },
        "outputId": "f31718f6-5518-4411-af37-dc88924d903a"
      },
      "source": [
        "for i in range(5001):\n",
        "    sess.run(train, feed_dict={X : xData, Y : yData})\n",
        "    if i % 500 == 0:    # 500 번 마다 1번씩\n",
        "        print(i, sess.run(cost, feed_dict={X : xData, Y : yData}), sess.run(w), sess.run(b))\n",
        "print(sess.run(H, feed_dict={X : [9]})) # 8시간 일할 때 값을 구하기"
      ],
      "execution_count": 28,
      "outputs": [
        {
          "output_type": "stream",
          "text": [
            "0 3449437700.0 [52304.94] [52170.95]\n",
            "500 3316736500.0 [58064.7] [57930.707]\n",
            "1000 3316736500.0 [58064.7] [57930.707]\n",
            "1500 3316736500.0 [58064.7] [57930.707]\n",
            "2000 3316736500.0 [58064.7] [57930.707]\n",
            "2500 3316736500.0 [58064.7] [57930.707]\n",
            "3000 3316736500.0 [58064.7] [57930.707]\n",
            "3500 3316736500.0 [58064.7] [57930.707]\n",
            "4000 3316736500.0 [58064.7] [57930.707]\n",
            "4500 3316736500.0 [58064.7] [57930.707]\n",
            "5000 3316736500.0 [58064.7] [57930.707]\n",
            "[116004.41]\n"
          ],
          "name": "stdout"
        }
      ]
    },
    {
      "cell_type": "code",
      "metadata": {
        "id": "bjOCWrsiczFv",
        "colab_type": "code",
        "colab": {}
      },
      "source": [
        ""
      ],
      "execution_count": 0,
      "outputs": []
    }
  ]
}