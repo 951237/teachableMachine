{
  "nbformat": 4,
  "nbformat_minor": 0,
  "metadata": {
    "colab": {
      "name": "TIL_2020_02.ipynb",
      "provenance": [],
      "toc_visible": true,
      "authorship_tag": "ABX9TyMTkmDWpGiAQ66lBrDm2VOM",
      "include_colab_link": true
    },
    "kernelspec": {
      "name": "python3",
      "display_name": "Python 3"
    }
  },
  "cells": [
    {
      "cell_type": "markdown",
      "metadata": {
        "id": "view-in-github",
        "colab_type": "text"
      },
      "source": [
        "<a href=\"https://colab.research.google.com/github/951237/teachableMachine/blob/master/TIL_2020_02.ipynb\" target=\"_parent\"><img src=\"https://colab.research.google.com/assets/colab-badge.svg\" alt=\"Open In Colab\"/></a>"
      ]
    },
    {
      "cell_type": "markdown",
      "metadata": {
        "id": "9Ex-ltZEYF0W",
        "colab_type": "text"
      },
      "source": [
        "# 인공지능"
      ]
    },
    {
      "cell_type": "markdown",
      "metadata": {
        "id": "yvDpBBejYOz3",
        "colab_type": "text"
      },
      "source": [
        "## TIL - 200209 텐서플로 따라하기(안경잡이 개발자)\n",
        "- x축은 시간 \n",
        "- y축은 임금\n",
        "- 데이터를 기반으로 추후 임금 구하기"
      ]
    },
    {
      "cell_type": "markdown",
      "metadata": {
        "id": "7CRgpuM8fk_T",
        "colab_type": "text"
      },
      "source": [
        "### 선형회귀를 이용한 임금 예상하기"
      ]
    },
    {
      "cell_type": "code",
      "metadata": {
        "id": "dwwlRuhbYX5f",
        "colab_type": "code",
        "colab": {}
      },
      "source": [
        "import tensorflow as tf"
      ],
      "execution_count": 0,
      "outputs": []
    },
    {
      "cell_type": "code",
      "metadata": {
        "id": "-Vcl8IrCZNTu",
        "colab_type": "code",
        "colab": {}
      },
      "source": [
        "xData = [1, 2, 3, 4, 5, 6, 7]\n",
        "yData = [25000, 55000, 75000, 110000, 128000, 155000, 180000]"
      ],
      "execution_count": 0,
      "outputs": []
    },
    {
      "cell_type": "code",
      "metadata": {
        "id": "y0isthpgaiYo",
        "colab_type": "code",
        "colab": {}
      },
      "source": [
        "w = tf.Variable(tf.random_uniform([1], -100, 100)) #기울기\n",
        "b = tf.Variable(tf.random_uniform([1], -100, 100)) # 값"
      ],
      "execution_count": 0,
      "outputs": []
    },
    {
      "cell_type": "code",
      "metadata": {
        "id": "XTcH4zHma5kX",
        "colab_type": "code",
        "colab": {}
      },
      "source": [
        "X = tf.placeholder(tf.float32)  # x축 설정하기\n",
        "Y = tf.placeholder(tf.float32)  # y축 설정하기\n",
        "H = w * X + b # 이해가 안됨. 무슨 뜻? 직선의 "
      ],
      "execution_count": 0,
      "outputs": []
    },
    {
      "cell_type": "code",
      "metadata": {
        "id": "s21UN-N3b3Rr",
        "colab_type": "code",
        "colab": {}
      },
      "source": [
        "cost = tf.reduce_mean(tf.square(H-Y)) # 절대값을 구하여 평균값을 구함\n",
        "a = tf.Variable(0.01)   # 점프값을 0.01로 정함.\n",
        "optimizer = tf.train.GradientDescentOptimizer(a)    # 경사하강법을 라이브러리 이용하여 훈련하기\n",
        "train = optimizer.minimize(cost)    # 무슨뜻?\n",
        "init = tf.global_variables_initializer()    # 초기화?\n",
        "sess = tf.Session()     # 세선을 선언\n",
        "sess.run(init)"
      ],
      "execution_count": 0,
      "outputs": []
    },
    {
      "cell_type": "code",
      "metadata": {
        "id": "h7el5Ivyb7ZQ",
        "colab_type": "code",
        "colab": {
          "base_uri": "https://localhost:8080/",
          "height": 221
        },
        "outputId": "8a726c02-67cc-4e4b-c68e-40be790f5701"
      },
      "source": [
        "for i in range(5001):\n",
        "    sess.run(train, feed_dict={X : xData, Y : yData})\n",
        "    if i % 500 == 0:    # 500 번 마다 1번씩\n",
        "        print(i, sess.run(cost, feed_dict={X : xData, Y : yData}), sess.run(w), sess.run(b))\n",
        "print(sess.run(H, feed_dict={X : [2]})) # 8시간 일할 때 값을 구하기"
      ],
      "execution_count": 49,
      "outputs": [
        {
          "output_type": "stream",
          "text": [
            "0 8632657.0 [25642.848] [1428.6133]\n",
            "500 8632657.0 [25642.848] [1428.6133]\n",
            "1000 8632657.0 [25642.848] [1428.6133]\n",
            "1500 8632657.0 [25642.848] [1428.6133]\n",
            "2000 8632657.0 [25642.848] [1428.6133]\n",
            "2500 8632657.0 [25642.848] [1428.6133]\n",
            "3000 8632657.0 [25642.848] [1428.6133]\n",
            "3500 8632657.0 [25642.848] [1428.6133]\n",
            "4000 8632657.0 [25642.848] [1428.6133]\n",
            "4500 8632657.0 [25642.848] [1428.6133]\n",
            "5000 8632657.0 [25642.848] [1428.6133]\n",
            "[52714.31]\n"
          ],
          "name": "stdout"
        }
      ]
    },
    {
      "cell_type": "markdown",
      "metadata": {
        "id": "bjOCWrsiczFv",
        "colab_type": "text"
      },
      "source": [
        "### 텐서플로 - 상수"
      ]
    },
    {
      "cell_type": "code",
      "metadata": {
        "id": "iJ1zO_dNfzz7",
        "colab_type": "code",
        "colab": {}
      },
      "source": [
        "import tensorflow as tf\n"
      ],
      "execution_count": 0,
      "outputs": []
    },
    {
      "cell_type": "code",
      "metadata": {
        "id": "AH42kcdxf4W5",
        "colab_type": "code",
        "colab": {
          "base_uri": "https://localhost:8080/",
          "height": 34
        },
        "outputId": "139b0ac9-4cc7-43b7-cc3b-2b16733bd9aa"
      },
      "source": [
        "a = tf.constant(1)  # 상수 선언\n",
        "b = tf.constant(2)\n",
        "c = tf.add(a, b)    # 연산식\n",
        "sess = tf.Session() # 세션만들기\n",
        "sess.run(c)     # 연산을 수행"
      ],
      "execution_count": 52,
      "outputs": [
        {
          "output_type": "execute_result",
          "data": {
            "text/plain": [
              "3"
            ]
          },
          "metadata": {
            "tags": []
          },
          "execution_count": 52
        }
      ]
    },
    {
      "cell_type": "markdown",
      "metadata": {
        "id": "ChkJNU4DgkyO",
        "colab_type": "text"
      },
      "source": [
        "### 텐서플로 - 변수\n",
        "- 변수를 바꿔줘야 할경우\n",
        "- 계산할 때 마다 초기화를 다시 해줘야 함. "
      ]
    },
    {
      "cell_type": "code",
      "metadata": {
        "id": "bDfCSJbIg0W_",
        "colab_type": "code",
        "colab": {}
      },
      "source": [
        "import tensorflow as tf"
      ],
      "execution_count": 0,
      "outputs": []
    },
    {
      "cell_type": "code",
      "metadata": {
        "id": "JVUcbEq_hF90",
        "colab_type": "code",
        "colab": {
          "base_uri": "https://localhost:8080/",
          "height": 34
        },
        "outputId": "70fd7dc9-06e1-4713-e510-699c6190be8a"
      },
      "source": [
        "a = tf.Variable(5)\n",
        "b = tf.Variable(6)\n",
        "c = tf.multiply(a, b)   # a, b의 곱하기 식\n",
        "init = tf.global_variables_initializer()    # ★변수를 선언시 사용할 수 있도록 초기화 하기\n",
        "sess = tf.Session()\n",
        "sess.run(init)\n",
        "sess.run(c)"
      ],
      "execution_count": 56,
      "outputs": [
        {
          "output_type": "execute_result",
          "data": {
            "text/plain": [
              "30"
            ]
          },
          "metadata": {
            "tags": []
          },
          "execution_count": 56
        }
      ]
    },
    {
      "cell_type": "markdown",
      "metadata": {
        "id": "fa_cF2crhZ2D",
        "colab_type": "text"
      },
      "source": [
        "### 텐서플로 - 플레이스 홀더(Placeholder)\n",
        "- 다른 텐서를 할당함.\n",
        "- 학습데이터를 포함하는 변수"
      ]
    },
    {
      "cell_type": "code",
      "metadata": {
        "id": "3NDsCzWeiLH6",
        "colab_type": "code",
        "colab": {}
      },
      "source": [
        "import tensorflow as tf\n"
      ],
      "execution_count": 0,
      "outputs": []
    },
    {
      "cell_type": "code",
      "metadata": {
        "id": "oD6inZzIi-fo",
        "colab_type": "code",
        "colab": {}
      },
      "source": [
        "input = [1, 2, 3, 4, 5]\n",
        "x = tf.placeholder(dtype=tf.float32)    # 학습데이터를 포함하는 변수를 선언\n",
        "y = x + 5       # y 식을 선언"
      ],
      "execution_count": 0,
      "outputs": []
    },
    {
      "cell_type": "code",
      "metadata": {
        "id": "G6apWDPdjKPJ",
        "colab_type": "code",
        "colab": {
          "base_uri": "https://localhost:8080/",
          "height": 34
        },
        "outputId": "b09b634d-1551-48cf-8f50-9939fcd77d90"
      },
      "source": [
        "sess = tf.Session()\n",
        "sess.run(y, feed_dict={x : input})  # 학습데이터를 이용하여 y 값을 구하기"
      ],
      "execution_count": 62,
      "outputs": [
        {
          "output_type": "execute_result",
          "data": {
            "text/plain": [
              "array([ 6.,  7.,  8.,  9., 10.], dtype=float32)"
            ]
          },
          "metadata": {
            "tags": []
          },
          "execution_count": 62
        }
      ]
    },
    {
      "cell_type": "markdown",
      "metadata": {
        "id": "-e9aRlmvjThx",
        "colab_type": "text"
      },
      "source": [
        "#### 예제 - 평균값 구하기"
      ]
    },
    {
      "cell_type": "code",
      "metadata": {
        "id": "_XUHK6skkdDW",
        "colab_type": "code",
        "colab": {}
      },
      "source": [
        "import tensorflow as tf\n"
      ],
      "execution_count": 0,
      "outputs": []
    },
    {
      "cell_type": "code",
      "metadata": {
        "id": "vwHjZxjikfW6",
        "colab_type": "code",
        "colab": {}
      },
      "source": [
        "math_score = [90, 87, 57, 98, 83]   # 수학점수\n",
        "english_socre = [88, 89, 78, 99, 68]    # 영어점수"
      ],
      "execution_count": 0,
      "outputs": []
    },
    {
      "cell_type": "code",
      "metadata": {
        "id": "fLl27r5Hkoyg",
        "colab_type": "code",
        "colab": {}
      },
      "source": [
        "a = tf.placeholder(dtype=tf.float32)    # 수학점수 플레이스홀더\n",
        "b = tf.placeholder(dtype=tf.float32)    # 영어점수 플레이스홀더\n",
        "y = (a + b) / 2     # 평균 값 구하는 식"
      ],
      "execution_count": 0,
      "outputs": []
    },
    {
      "cell_type": "code",
      "metadata": {
        "id": "HqRspux7kzsr",
        "colab_type": "code",
        "colab": {
          "base_uri": "https://localhost:8080/",
          "height": 34
        },
        "outputId": "5afbb687-4d99-47e3-9471-2a62722e9576"
      },
      "source": [
        "sess = tf.Session()     # 세선선언\n",
        "sess.run(y, feed_dict={a : math_score, b : english_socre})  #세션값 구하기"
      ],
      "execution_count": 70,
      "outputs": [
        {
          "output_type": "execute_result",
          "data": {
            "text/plain": [
              "array([89. , 88. , 67.5, 98.5, 75.5], dtype=float32)"
            ]
          },
          "metadata": {
            "tags": []
          },
          "execution_count": 70
        }
      ]
    },
    {
      "cell_type": "markdown",
      "metadata": {
        "id": "TRoO0gDqk87D",
        "colab_type": "text"
      },
      "source": [
        "### 텐서플로 주요함수 실습하기\n",
        "- 함수를 모두 배울 필요는 없으며, 필요할 때 알아보기"
      ]
    },
    {
      "cell_type": "code",
      "metadata": {
        "id": "MVRUWqSyllIx",
        "colab_type": "code",
        "colab": {}
      },
      "source": [
        "import tensorflow as tf\n"
      ],
      "execution_count": 0,
      "outputs": []
    },
    {
      "cell_type": "code",
      "metadata": {
        "id": "71GO7DVunJl7",
        "colab_type": "code",
        "colab": {}
      },
      "source": [
        "a = tf.constant(15)\n",
        "b = tf.constant(6)"
      ],
      "execution_count": 0,
      "outputs": []
    },
    {
      "cell_type": "code",
      "metadata": {
        "id": "2BnWWVbFnQnq",
        "colab_type": "code",
        "colab": {
          "base_uri": "https://localhost:8080/",
          "height": 34
        },
        "outputId": "d351b2c0-b3a2-4c1e-cea8-cdf7258aae28"
      },
      "source": [
        "sess = tf.Session()\n",
        "# add\n",
        "c = tf.add(a,b)\n",
        "sess.run(c)"
      ],
      "execution_count": 81,
      "outputs": [
        {
          "output_type": "execute_result",
          "data": {
            "text/plain": [
              "21"
            ]
          },
          "metadata": {
            "tags": []
          },
          "execution_count": 81
        }
      ]
    },
    {
      "cell_type": "code",
      "metadata": {
        "id": "JFORaIzLnXKm",
        "colab_type": "code",
        "colab": {
          "base_uri": "https://localhost:8080/",
          "height": 34
        },
        "outputId": "daca1a99-087b-4871-bdea-868cad3d7887"
      },
      "source": [
        "# 빼기\n",
        "c = tf.subtract(a, b)\n",
        "sess.run(c)"
      ],
      "execution_count": 83,
      "outputs": [
        {
          "output_type": "execute_result",
          "data": {
            "text/plain": [
              "9"
            ]
          },
          "metadata": {
            "tags": []
          },
          "execution_count": 83
        }
      ]
    },
    {
      "cell_type": "code",
      "metadata": {
        "id": "2gaid-z2nyk5",
        "colab_type": "code",
        "colab": {
          "base_uri": "https://localhost:8080/",
          "height": 34
        },
        "outputId": "8e74e66f-9e39-4bf4-fc5c-78486fa5fa7b"
      },
      "source": [
        "# 곱하기\n",
        "c = tf.multiply(a, b)\n",
        "sess.run(c)"
      ],
      "execution_count": 84,
      "outputs": [
        {
          "output_type": "execute_result",
          "data": {
            "text/plain": [
              "90"
            ]
          },
          "metadata": {
            "tags": []
          },
          "execution_count": 84
        }
      ]
    },
    {
      "cell_type": "code",
      "metadata": {
        "id": "1Ga8M5RWoA7U",
        "colab_type": "code",
        "colab": {
          "base_uri": "https://localhost:8080/",
          "height": 34
        },
        "outputId": "2677630b-4585-4a00-9a5c-7c1ea894a977"
      },
      "source": [
        "# 나누기\n",
        "c = tf.truediv(a,b)\n",
        "sess.run(c)"
      ],
      "execution_count": 85,
      "outputs": [
        {
          "output_type": "execute_result",
          "data": {
            "text/plain": [
              "2.5"
            ]
          },
          "metadata": {
            "tags": []
          },
          "execution_count": 85
        }
      ]
    },
    {
      "cell_type": "code",
      "metadata": {
        "id": "VJhSJ0PMoHyz",
        "colab_type": "code",
        "colab": {}
      },
      "source": [
        ""
      ],
      "execution_count": 0,
      "outputs": []
    }
  ]
}